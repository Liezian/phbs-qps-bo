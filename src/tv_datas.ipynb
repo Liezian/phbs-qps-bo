{
 "cells": [
  {
   "cell_type": "code",
   "execution_count": 4,
   "metadata": {},
   "outputs": [],
   "source": [
    "import pandas as pd\n",
    "from fredapi import Fred"
   ]
  },
  {
   "cell_type": "code",
   "execution_count": 5,
   "metadata": {},
   "outputs": [
    {
     "name": "stdout",
     "output_type": "stream",
     "text": [
      "1947-01-01    21.48\n",
      "1947-02-01    21.62\n",
      "1947-03-01    22.00\n",
      "1947-04-01    22.00\n",
      "1947-05-01    21.95\n",
      "dtype: float64\n"
     ]
    }
   ],
   "source": [
    "fred = Fred(api_key=\"0ef76ff8030d84534bcff2715bb3114e\")\n",
    "\n",
    "# 下载美国CPI数据 (符号 'CPIAUCSL' 是常见的CPI总值)\n",
    "cpi_data = fred.get_series('CPIAUCSL',\n",
    "                           observation_start='10/1/2023',\n",
    "                           observation_end='11/26/2024')\n",
    "cpi_data.columns = ['date', 'cpi']\n",
    "\n",
    "# 打印数据\n",
    "print(cpi_data.head())"
   ]
  },
  {
   "cell_type": "code",
   "execution_count": 16,
   "metadata": {},
   "outputs": [],
   "source": [
    "# 保存到 CSV 文件\n",
    "cpi_data.to_csv(\"../data/us_cpi_data_fred.csv\")"
   ]
  },
  {
   "cell_type": "code",
   "execution_count": null,
   "metadata": {},
   "outputs": [],
   "source": []
  }
 ],
 "metadata": {
  "kernelspec": {
   "display_name": "phbs",
   "language": "python",
   "name": "python3"
  },
  "language_info": {
   "codemirror_mode": {
    "name": "ipython",
    "version": 3
   },
   "file_extension": ".py",
   "mimetype": "text/x-python",
   "name": "python",
   "nbconvert_exporter": "python",
   "pygments_lexer": "ipython3",
   "version": "3.12.7"
  }
 },
 "nbformat": 4,
 "nbformat_minor": 2
}
