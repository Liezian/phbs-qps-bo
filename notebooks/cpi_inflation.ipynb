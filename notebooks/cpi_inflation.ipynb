{
 "cells": [
  {
   "cell_type": "code",
   "execution_count": 7,
   "metadata": {},
   "outputs": [],
   "source": [
    "import pandas as pd\n",
    "import os\n",
    "from datetime import date, timedelta"
   ]
  },
  {
   "cell_type": "code",
   "execution_count": 57,
   "metadata": {},
   "outputs": [],
   "source": [
    "def get_quarter_dates(year):\n",
    "    quarters = {}\n",
    "    for quarter_start_month in range(1, 13, 3):\n",
    "        # 第一天\n",
    "        first_day = date(year, quarter_start_month, 1)\n",
    "        # 最后一天\n",
    "        if quarter_start_month == 10:  # 如果是第4季度\n",
    "            last_day = date(year, 12, 1)\n",
    "        else:\n",
    "            next_month = date(year, quarter_start_month + 2, 1)\n",
    "            last_day = next_month #- timedelta(days=1)\n",
    "        quarters[f'Q{quarter_start_month//3+1}'] = (str(first_day), str(last_day))\n",
    "    return quarters"
   ]
  },
  {
   "cell_type": "code",
   "execution_count": 45,
   "metadata": {},
   "outputs": [
    {
     "data": {
      "text/html": [
       "<div>\n",
       "<style scoped>\n",
       "    .dataframe tbody tr th:only-of-type {\n",
       "        vertical-align: middle;\n",
       "    }\n",
       "\n",
       "    .dataframe tbody tr th {\n",
       "        vertical-align: top;\n",
       "    }\n",
       "\n",
       "    .dataframe thead th {\n",
       "        text-align: right;\n",
       "    }\n",
       "</style>\n",
       "<table border=\"1\" class=\"dataframe\">\n",
       "  <thead>\n",
       "    <tr style=\"text-align: right;\">\n",
       "      <th></th>\n",
       "      <th>cpi</th>\n",
       "    </tr>\n",
       "    <tr>\n",
       "      <th>date</th>\n",
       "      <th></th>\n",
       "    </tr>\n",
       "  </thead>\n",
       "  <tbody>\n",
       "    <tr>\n",
       "      <th>2023-10-01</th>\n",
       "      <td>307.531</td>\n",
       "    </tr>\n",
       "    <tr>\n",
       "      <th>2023-11-01</th>\n",
       "      <td>308.024</td>\n",
       "    </tr>\n",
       "    <tr>\n",
       "      <th>2023-12-01</th>\n",
       "      <td>308.742</td>\n",
       "    </tr>\n",
       "    <tr>\n",
       "      <th>2024-01-01</th>\n",
       "      <td>309.685</td>\n",
       "    </tr>\n",
       "    <tr>\n",
       "      <th>2024-02-01</th>\n",
       "      <td>311.054</td>\n",
       "    </tr>\n",
       "  </tbody>\n",
       "</table>\n",
       "</div>"
      ],
      "text/plain": [
       "                cpi\n",
       "date               \n",
       "2023-10-01  307.531\n",
       "2023-11-01  308.024\n",
       "2023-12-01  308.742\n",
       "2024-01-01  309.685\n",
       "2024-02-01  311.054"
      ]
     },
     "execution_count": 45,
     "metadata": {},
     "output_type": "execute_result"
    }
   ],
   "source": [
    "data_path = '../data'\n",
    "data_name = 'us_cpi_data_fred.csv'\n",
    "datas = pd.read_csv(os.path.join(data_path, data_name))\n",
    "datas.columns = ['date', 'cpi']\n",
    "datas.set_index(['date'], inplace=True)\n",
    "datas.head()"
   ]
  },
  {
   "cell_type": "code",
   "execution_count": 58,
   "metadata": {},
   "outputs": [],
   "source": [
    "quarters_2024 = get_quarter_dates(2024)\n",
    "quarters_2023 = get_quarter_dates(2023)"
   ]
  },
  {
   "cell_type": "code",
   "execution_count": 62,
   "metadata": {},
   "outputs": [
    {
     "name": "stdout",
     "output_type": "stream",
     "text": [
      "inflation of 2023 Q4: 0.003937814399198825 \n",
      " inflation of 2024 Q1: 0.008218027996189647 \n",
      " inflation of 2024 Q2: -0.0005044587126086242 \n",
      " inflation of 2024 Q3: 0.0036742426658671334 \n",
      "\n"
     ]
    }
   ],
   "source": [
    "inflation_2023_Q4 = datas.loc[quarters_2023['Q4'][1], 'cpi']/datas.loc[quarters_2023['Q4'][0], 'cpi']-1\n",
    "inflation_2024_Q1 = datas.loc[quarters_2024['Q1'][1], 'cpi']/datas.loc[quarters_2024['Q1'][0], 'cpi']-1\n",
    "inflation_2024_Q2 = datas.loc[quarters_2024['Q2'][1], 'cpi']/datas.loc[quarters_2024['Q2'][0], 'cpi']-1\n",
    "inflation_2024_Q3 = datas.loc[quarters_2024['Q3'][1], 'cpi']/datas.loc[quarters_2024['Q3'][0], 'cpi']-1\n",
    "print(\n",
    "    'inflation of 2023 Q4:', inflation_2023_Q4, '\\n',\n",
    "    'inflation of 2024 Q1:', inflation_2024_Q1, '\\n',\n",
    "    'inflation of 2024 Q2:', inflation_2024_Q2, '\\n',\n",
    "    'inflation of 2024 Q3:', inflation_2024_Q3, '\\n',\n",
    ")"
   ]
  },
  {
   "cell_type": "code",
   "execution_count": null,
   "metadata": {},
   "outputs": [],
   "source": []
  }
 ],
 "metadata": {
  "kernelspec": {
   "display_name": "phbs",
   "language": "python",
   "name": "python3"
  },
  "language_info": {
   "codemirror_mode": {
    "name": "ipython",
    "version": 3
   },
   "file_extension": ".py",
   "mimetype": "text/x-python",
   "name": "python",
   "nbconvert_exporter": "python",
   "pygments_lexer": "ipython3",
   "version": "3.12.7"
  }
 },
 "nbformat": 4,
 "nbformat_minor": 2
}
